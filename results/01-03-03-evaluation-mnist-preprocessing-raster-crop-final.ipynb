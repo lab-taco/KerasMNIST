{
 "cells": [
  {
   "cell_type": "code",
   "execution_count": 1,
   "id": "54ec1f06-8219-4ab2-b7aa-c34a15d9aed6",
   "metadata": {},
   "outputs": [
    {
     "name": "stdout",
     "output_type": "stream",
     "text": [
      "Working directory is changed from /home/sungjae/Projects/KerasMNIST/results to /home/sungjae/Projects/KerasMNIST.\n"
     ]
    }
   ],
   "source": [
    "import os\n",
    "old_cwd = os.getcwd()\n",
    "os.chdir('..')\n",
    "new_cwd = os.getcwd()\n",
    "print('Working directory is changed from {} to {}.'.format(old_cwd, new_cwd))"
   ]
  },
  {
   "cell_type": "markdown",
   "id": "19d881ca-0ebe-4527-ab80-5a6fe3cf78fd",
   "metadata": {},
   "source": [
    "- Purpose\n",
    "  1. Import digit images and make them as a dataset.\n",
    "  2. Run prediction on the dataset."
   ]
  },
  {
   "cell_type": "markdown",
   "id": "d332cead-23f3-4c7e-aedf-06aed738cb5d",
   "metadata": {},
   "source": [
    "# Import digit images"
   ]
  },
  {
   "cell_type": "code",
   "execution_count": 2,
   "id": "a95f3bff-9d70-4877-a4b8-8454d0e0ca56",
   "metadata": {
    "tags": []
   },
   "outputs": [],
   "source": [
    "import os, cv2\n",
    "import numpy as np\n",
    "import tensorflow as tf\n",
    "import matplotlib.pyplot as plt\n",
    "from predict import img2np\n",
    "from tensorflow.keras.models import load_model\n",
    "from sklearn.metrics import confusion_matrix, ConfusionMatrixDisplay, accuracy_score, precision_recall_fscore_support\n",
    "\n",
    "os.environ['CUDA_VISIBLE_DEVICES'] = '1'\n",
    "gpus = tf.config.experimental.list_physical_devices('GPU')\n",
    "for gpu in gpus:\n",
    "    tf.config.experimental.set_memory_growth(gpu, True)\n",
    "\n",
    "data_dir = os.path.join(old_cwd, '01-03-03')\n",
    "if not os.path.exists(data_dir):\n",
    "    os.mkdir(data_dir)\n",
    "\n",
    "dir_img_path = os.path.join('..', 'DynamicMNIST-Data', 'data_raster_digit_1000')\n",
    "img_ext = '.png'\n",
    "batch_size = 256 * 4\n",
    "model_path = 'cnn.h5'"
   ]
  },
  {
   "cell_type": "code",
   "execution_count": 3,
   "id": "9e52abe4-7175-4bcd-82e5-530b499699a6",
   "metadata": {},
   "outputs": [],
   "source": [
    "def get_class_from(filename):\n",
    "    digit = int(filename.split('_')[-6])\n",
    "    return digit"
   ]
  },
  {
   "cell_type": "code",
   "execution_count": 4,
   "id": "efad6d2e-a19d-4657-814a-8dd93348fbdd",
   "metadata": {},
   "outputs": [],
   "source": [
    "img_paths = [os.path.join(dir_img_path, f) for f in os.listdir(dir_img_path) if os.path.splitext(f)[-1] == img_ext]"
   ]
  },
  {
   "cell_type": "code",
   "execution_count": 5,
   "id": "ce906bd2-86d0-42f6-90ca-3de50aab4135",
   "metadata": {},
   "outputs": [],
   "source": [
    "img_names = [f for f in os.listdir(dir_img_path) if os.path.splitext(f)[-1] == img_ext]"
   ]
  },
  {
   "cell_type": "code",
   "execution_count": 6,
   "id": "1e2967c5-3e93-45e3-b223-6ca8acdbd15a",
   "metadata": {},
   "outputs": [
    {
     "name": "stdout",
     "output_type": "stream",
     "text": [
      "(1, 28, 28, 1)\n"
     ]
    }
   ],
   "source": [
    "np_img = img2np(os.path.join(dir_img_path, img_names[0]))\n",
    "print(np_img.shape)"
   ]
  },
  {
   "cell_type": "code",
   "execution_count": 7,
   "id": "fa9a570e-1118-4e1d-809b-0b4b69e1447e",
   "metadata": {},
   "outputs": [
    {
     "name": "stdout",
     "output_type": "stream",
     "text": [
      "WARNING:tensorflow:Error in loading the saved optimizer state. As a result, your model is starting with a freshly initialized optimizer.\n"
     ]
    },
    {
     "name": "stderr",
     "output_type": "stream",
     "text": [
      "2022-04-01 15:07:41.692289: I tensorflow/core/platform/cpu_feature_guard.cc:151] This TensorFlow binary is optimized with oneAPI Deep Neural Network Library (oneDNN) to use the following CPU instructions in performance-critical operations:  AVX2 AVX512F FMA\n",
      "To enable them in other operations, rebuild TensorFlow with the appropriate compiler flags.\n",
      "2022-04-01 15:07:42.386128: I tensorflow/core/common_runtime/gpu/gpu_device.cc:1525] Created device /job:localhost/replica:0/task:0/device:GPU:0 with 9643 MB memory:  -> device: 0, name: NVIDIA GeForce RTX 2080 Ti, pci bus id: 0000:5e:00.0, compute capability: 7.5\n"
     ]
    }
   ],
   "source": [
    "model = load_model(model_path)"
   ]
  },
  {
   "cell_type": "markdown",
   "id": "2dd8a85b-b09f-4290-9b2d-3afee85164de",
   "metadata": {},
   "source": [
    "# Prediction for the MNIST test dataset"
   ]
  },
  {
   "cell_type": "code",
   "execution_count": 8,
   "id": "523a368a-dcf0-47d9-93bc-89fa267cd93b",
   "metadata": {},
   "outputs": [],
   "source": [
    "title = 'result-mnist'"
   ]
  },
  {
   "cell_type": "code",
   "execution_count": 9,
   "id": "34a33765-e4e7-485f-ae31-4b642e5c778a",
   "metadata": {},
   "outputs": [],
   "source": [
    "(x_train, y_train), (x_test, y_test) = tf.keras.datasets.mnist.load_data()\n",
    "#x_test = np.invert(x_test)\n",
    "x_test = x_test.astype('float32')\n",
    "x_test = x_test / 255\n",
    "dataset = tf.data.Dataset.from_tensor_slices((x_test, y_test))"
   ]
  },
  {
   "cell_type": "code",
   "execution_count": 10,
   "id": "cc378e07-ff99-4f7e-9604-bb5f7863c03f",
   "metadata": {},
   "outputs": [
    {
     "data": {
      "text/plain": [
       "<matplotlib.image.AxesImage at 0x7f924c21f100>"
      ]
     },
     "execution_count": 10,
     "metadata": {},
     "output_type": "execute_result"
    },
    {
     "data": {
      "image/png": "[encoded data removed]",
      "text/plain": [
       "<Figure size 432x288 with 1 Axes>"
      ]
     },
     "metadata": {
      "needs_background": "light"
     },
     "output_type": "display_data"
    }
   ],
   "source": [
    "plt.imshow(x_test[2], cmap='gray')"
   ]
  },
  {
   "cell_type": "code",
   "execution_count": 11,
   "id": "fdc059e1-d95c-4454-b8ab-531f3d579082",
   "metadata": {},
   "outputs": [
    {
     "data": {
      "text/plain": [
       "<matplotlib.image.AxesImage at 0x7f924c18e460>"
      ]
     },
     "execution_count": 11,
     "metadata": {},
     "output_type": "execute_result"
    },
    {
     "data": {
      "image/png": "[encoded data removed]",
      "text/plain": [
       "<Figure size 432x288 with 1 Axes>"
      ]
     },
     "metadata": {
      "needs_background": "light"
     },
     "output_type": "display_data"
    }
   ],
   "source": [
    "plt.imshow(x_test[6], cmap='gray')"
   ]
  },
  {
   "cell_type": "code",
   "execution_count": 12,
   "id": "f424208a-c541-4cd3-9b52-4256804f7464",
   "metadata": {},
   "outputs": [
    {
     "name": "stderr",
     "output_type": "stream",
     "text": [
      "2022-04-01 15:07:43.994889: I tensorflow/stream_executor/cuda/cuda_dnn.cc:366] Loaded cuDNN version 8201\n"
     ]
    }
   ],
   "source": [
    "y_pred_all = list()\n",
    "for x, y in dataset.batch(batch_size):\n",
    "    y_out = model.predict(x)\n",
    "    y_pred = np.argmax(y_out, axis=-1)\n",
    "    y_pred_all += y_pred.tolist()"
   ]
  },
  {
   "cell_type": "code",
   "execution_count": 13,
   "id": "61c49112-aa68-4950-9fcc-5db1ebd8a4c2",
   "metadata": {},
   "outputs": [],
   "source": [
    "y_trgt = y_test\n",
    "y_pred = y_pred_all"
   ]
  },
  {
   "cell_type": "code",
   "execution_count": 14,
   "id": "71e6df9c-3eb5-47f8-ba2e-579713532af4",
   "metadata": {},
   "outputs": [
    {
     "name": "stdout",
     "output_type": "stream",
     "text": [
      "Accuracy  : 0.99\n",
      "Precision : [0.99 0.99 0.99 0.99 0.99 0.99 0.99 0.99 0.99 0.99]\n",
      "Recall    : [0.99 1.   0.99 0.99 0.99 0.99 0.99 0.99 0.98 0.98]\n",
      "F1-socre  : [0.99 0.99 0.99 0.99 0.99 0.99 0.99 0.99 0.99 0.99]\n",
      "Mean\n",
      "Precision : 0.99\n",
      "Recall    : 0.99\n",
      "F1-socre  : 0.99\n"
     ]
    },
    {
     "data": {
      "image/png": "[encoded data removed]",
      "text/plain": [
       "<Figure size 576x432 with 2 Axes>"
      ]
     },
     "metadata": {
      "needs_background": "light"
     },
     "output_type": "display_data"
    }
   ],
   "source": [
    "accuracy = accuracy_score(y_trgt, y_pred)\n",
    "precision, recall, f1score, _ = precision_recall_fscore_support(y_trgt, y_pred, beta=1)\n",
    "\n",
    "cm = confusion_matrix(y_trgt, y_pred, normalize='true')\n",
    "cm = np.round(cm,2)\n",
    "\n",
    "disp = ConfusionMatrixDisplay(confusion_matrix=cm)\n",
    "font = {'size' : 10}\n",
    "plt.rc('font', **font)\n",
    "fig, ax = plt.subplots(figsize=(8, 6))\n",
    "plt.tight_layout(pad=2)\n",
    "plt.title('{} (accuracy = {})'.format(title, round(accuracy,3)))\n",
    "disp.plot(ax=ax)\n",
    "\n",
    "plt.savefig(os.path.join(data_dir, '{}.svg'.format(title)))\n",
    "\n",
    "print('Accuracy  :', np.round(accuracy, 2))\n",
    "print('Precision :', np.round(precision, 2))\n",
    "print('Recall    :', np.round(recall, 2))\n",
    "print('F1-socre  :', np.round(f1score, 2))\n",
    "\n",
    "print('Mean')\n",
    "print('Precision :', np.round(precision.mean(), 2))\n",
    "print('Recall    :', np.round(recall.mean(), 2))\n",
    "print('F1-socre  :', np.round(f1score.mean(), 2))"
   ]
  },
  {
   "cell_type": "markdown",
   "id": "3620ab25-53ec-4fc5-b726-170ae7486d50",
   "metadata": {
    "tags": [],
    "toc-hr-collapsed": true
   },
   "source": [
    "## Analyze the results"
   ]
  },
  {
   "cell_type": "code",
   "execution_count": 15,
   "id": "08160da2-2881-42d7-9471-6135760fa226",
   "metadata": {},
   "outputs": [
    {
     "name": "stdout",
     "output_type": "stream",
     "text": [
      "Wrong predictions for digit 0 :     9 / 1000\n",
      "Wrong predictions for digit 1 :     1 / 1000\n",
      "Wrong predictions for digit 2 :     8 / 1000\n",
      "Wrong predictions for digit 3 :     7 / 1000\n",
      "Wrong predictions for digit 4 :     7 / 1000\n",
      "Wrong predictions for digit 5 :     8 / 1000\n",
      "Wrong predictions for digit 6 :    10 / 1000\n",
      "Wrong predictions for digit 7 :    10 / 1000\n",
      "Wrong predictions for digit 8 :    15 / 1000\n",
      "Wrong predictions for digit 9 :    18 / 1000\n",
      "====================\n",
      "index 717\n",
      "y_trgt 0\n",
      "y_pred 5\n"
     ]
    },
    {
     "data": {
      "image/png": "[encoded data removed]",
      "text/plain": [
       "<Figure size 432x288 with 1 Axes>"
      ]
     },
     "metadata": {
      "needs_background": "light"
     },
     "output_type": "display_data"
    },
    {
     "name": "stdout",
     "output_type": "stream",
     "text": [
      "index 1527\n",
      "y_trgt 1\n",
      "y_pred 5\n"
     ]
    },
    {
     "data": {
      "image/png": "[encoded data removed]",
      "text/plain": [
       "<Figure size 432x288 with 1 Axes>"
      ]
     },
     "metadata": {
      "needs_background": "light"
     },
     "output_type": "display_data"
    },
    {
     "name": "stdout",
     "output_type": "stream",
     "text": [
      "index 321\n",
      "y_trgt 2\n",
      "y_pred 7\n"
     ]
    },
    {
     "data": {
      "image/png": "[encoded data removed]",
      "text/plain": [
       "<Figure size 432x288 with 1 Axes>"
      ]
     },
     "metadata": {
      "needs_background": "light"
     },
     "output_type": "display_data"
    },
    {
     "name": "stdout",
     "output_type": "stream",
     "text": [
      "index 449\n",
      "y_trgt 3\n",
      "y_pred 5\n"
     ]
    },
    {
     "data": {
      "image/png": "[encoded data removed]",
      "text/plain": [
       "<Figure size 432x288 with 1 Axes>"
      ]
     },
     "metadata": {
      "needs_background": "light"
     },
     "output_type": "display_data"
    },
    {
     "name": "stdout",
     "output_type": "stream",
     "text": [
      "index 740\n",
      "y_trgt 4\n",
      "y_pred 9\n"
     ]
    },
    {
     "data": {
      "image/png": "[encoded data removed]",
      "text/plain": [
       "<Figure size 432x288 with 1 Axes>"
      ]
     },
     "metadata": {
      "needs_background": "light"
     },
     "output_type": "display_data"
    },
    {
     "name": "stdout",
     "output_type": "stream",
     "text": [
      "index 340\n",
      "y_trgt 5\n",
      "y_pred 3\n"
     ]
    },
    {
     "data": {
      "image/png": "[encoded data removed]",
      "text/plain": [
       "<Figure size 432x288 with 1 Axes>"
      ]
     },
     "metadata": {
      "needs_background": "light"
     },
     "output_type": "display_data"
    },
    {
     "name": "stdout",
     "output_type": "stream",
     "text": [
      "index 445\n",
      "y_trgt 6\n",
      "y_pred 0\n"
     ]
    },
    {
     "data": {
      "image/png": "[encoded data removed]",
      "text/plain": [
       "<Figure size 432x288 with 1 Axes>"
      ]
     },
     "metadata": {
      "needs_background": "light"
     },
     "output_type": "display_data"
    },
    {
     "name": "stdout",
     "output_type": "stream",
     "text": [
      "index 1039\n",
      "y_trgt 7\n",
      "y_pred 2\n"
     ]
    },
    {
     "data": {
      "image/png": "[encoded data removed]",
      "text/plain": [
       "<Figure size 432x288 with 1 Axes>"
      ]
     },
     "metadata": {
      "needs_background": "light"
     },
     "output_type": "display_data"
    },
    {
     "name": "stdout",
     "output_type": "stream",
     "text": [
      "index 582\n",
      "y_trgt 8\n",
      "y_pred 2\n"
     ]
    },
    {
     "data": {
      "image/png": "[encoded data removed]",
      "text/plain": [
       "<Figure size 432x288 with 1 Axes>"
      ]
     },
     "metadata": {
      "needs_background": "light"
     },
     "output_type": "display_data"
    },
    {
     "name": "stdout",
     "output_type": "stream",
     "text": [
      "index 882\n",
      "y_trgt 9\n",
      "y_pred 7\n"
     ]
    },
    {
     "data": {
      "image/png": "[encoded data removed]",
      "text/plain": [
       "<Figure size 432x288 with 1 Axes>"
      ]
     },
     "metadata": {
      "needs_background": "light"
     },
     "output_type": "display_data"
    }
   ],
   "source": [
    "y_trgt = np.array(y_trgt)\n",
    "y_pred = np.array(y_pred)\n",
    "\n",
    "for digit in range(10):\n",
    "    indexes_digit = np.squeeze(np.argwhere((y_trgt != y_pred) & (y_trgt == digit)), axis=-1)\n",
    "    print('Wrong predictions for digit {} : {:5d} / {}'.format(digit, len(indexes_digit), len(y_trgt)//10))\n",
    "\n",
    "print('====================')\n",
    "\n",
    "for digit in range(10):\n",
    "    indexes_digit = np.squeeze(np.argwhere((y_trgt != y_pred) & (y_trgt == digit)), axis=-1)\n",
    "    if len(indexes_digit) == 0:\n",
    "        continue    \n",
    "    i = indexes_digit[0]\n",
    "    print('index', i)\n",
    "    print('y_trgt', y_trgt[i])\n",
    "    print('y_pred', y_pred[i])\n",
    "    plt.imshow(x_test[i], cmap='gray')\n",
    "    plt.show()"
   ]
  },
  {
   "cell_type": "markdown",
   "id": "8898a922-1292-4204-a8c7-35ebf12aa1dc",
   "metadata": {},
   "source": [
    "# Prediction for our data: DMNIST preprocessed like MNIST"
   ]
  },
  {
   "cell_type": "code",
   "execution_count": 16,
   "id": "0572ebf6-9c8f-4316-91bc-0ba39b1385a9",
   "metadata": {},
   "outputs": [],
   "source": [
    "pad_width = 0\n",
    "rm_pad = False\n",
    "title = 'result-dmnist-mnist-preprcessing'"
   ]
  },
  {
   "cell_type": "code",
   "execution_count": 17,
   "id": "eb35b3ef-4e56-4c41-809c-8c0e091f1842",
   "metadata": {},
   "outputs": [
    {
     "name": "stdout",
     "output_type": "stream",
     "text": [
      "10000\n",
      "10000\n",
      "10000\n"
     ]
    }
   ],
   "source": [
    "inputs = list()\n",
    "targets = list()\n",
    "for img_name in img_names:\n",
    "    img_path = os.path.join(dir_img_path, img_name)\n",
    "    np_img = img2np(img_path, pad_width=pad_width, rm_pad=rm_pad)\n",
    "    label = get_class_from(img_name)\n",
    "    inputs.append(np_img.squeeze(axis=0))\n",
    "    targets.append(label)\n",
    "print(len(inputs))\n",
    "print(len(targets))\n",
    "dataset = tf.data.Dataset.from_tensor_slices((inputs, targets))\n",
    "print(len(dataset))\n",
    "#dataset = dataset.shuffle(len(dataset), reshuffle_each_iteration=True)\n",
    "#dataset.batch(batch_size)"
   ]
  },
  {
   "cell_type": "code",
   "execution_count": 18,
   "id": "48e8e121-09a0-455b-96a6-2cd4be43e467",
   "metadata": {},
   "outputs": [
    {
     "data": {
      "text/plain": [
       "<matplotlib.image.AxesImage at 0x7f91f8174f10>"
      ]
     },
     "execution_count": 18,
     "metadata": {},
     "output_type": "execute_result"
    },
    {
     "data": {
      "image/png": "[encoded data removed]",
      "text/plain": [
       "<Figure size 432x288 with 1 Axes>"
      ]
     },
     "metadata": {
      "needs_background": "light"
     },
     "output_type": "display_data"
    }
   ],
   "source": [
    "plt.imshow(inputs[0], cmap='gray')"
   ]
  },
  {
   "cell_type": "code",
   "execution_count": 19,
   "id": "663d80c8-b522-4094-b517-013a900b7434",
   "metadata": {},
   "outputs": [
    {
     "data": {
      "text/plain": [
       "<matplotlib.image.AxesImage at 0x7f91f81b1430>"
      ]
     },
     "execution_count": 19,
     "metadata": {},
     "output_type": "execute_result"
    },
    {
     "data": {
      "image/png": "[encoded data removed]",
      "text/plain": [
       "<Figure size 432x288 with 1 Axes>"
      ]
     },
     "metadata": {
      "needs_background": "light"
     },
     "output_type": "display_data"
    }
   ],
   "source": [
    "plt.imshow(inputs[18], cmap='gray')"
   ]
  },
  {
   "cell_type": "code",
   "execution_count": 20,
   "id": "ef96f119-b1d9-43c6-8412-852f371baf68",
   "metadata": {},
   "outputs": [],
   "source": [
    "dataset = tf.data.Dataset.from_tensor_slices((inputs, targets))"
   ]
  },
  {
   "cell_type": "code",
   "execution_count": 21,
   "id": "baf2ffd7-701a-4537-a080-2c78ca76d592",
   "metadata": {},
   "outputs": [],
   "source": [
    "y_pred_all = list()\n",
    "for x, y in dataset.batch(batch_size):\n",
    "    y_out = model.predict(x)\n",
    "    y_pred = np.argmax(y_out, axis=-1)\n",
    "    y_pred_all += y_pred.tolist()"
   ]
  },
  {
   "cell_type": "code",
   "execution_count": 22,
   "id": "62247425-057a-49c5-9cc5-24cae0695a9b",
   "metadata": {},
   "outputs": [],
   "source": [
    "y_trgt = targets\n",
    "y_pred = y_pred_all"
   ]
  },
  {
   "cell_type": "code",
   "execution_count": 23,
   "id": "819ed176-58f2-4f3f-a580-85a3fe52c090",
   "metadata": {},
   "outputs": [
    {
     "name": "stdout",
     "output_type": "stream",
     "text": [
      "Accuracy  : 1.0\n",
      "Precision : [1.   1.   1.   1.   1.   1.   1.   1.   1.   0.99]\n",
      "Recall    : [1.   1.   1.   1.   0.99 1.   1.   1.   1.   1.  ]\n",
      "F1-socre  : [1.   1.   1.   1.   0.99 1.   1.   1.   1.   0.99]\n",
      "Mean\n",
      "Precision : 1.0\n",
      "Recall    : 1.0\n",
      "F1-socre  : 1.0\n"
     ]
    },
    {
     "data": {
      "image/png": "[encoded data removed]",
      "text/plain": [
       "<Figure size 576x432 with 2 Axes>"
      ]
     },
     "metadata": {
      "needs_background": "light"
     },
     "output_type": "display_data"
    }
   ],
   "source": [
    "accuracy = accuracy_score(y_trgt, y_pred)\n",
    "precision, recall, f1score, _ = precision_recall_fscore_support(y_trgt, y_pred, beta=1)\n",
    "\n",
    "cm = confusion_matrix(y_trgt, y_pred, normalize='true')\n",
    "cm = np.round(cm,2)\n",
    "\n",
    "disp = ConfusionMatrixDisplay(confusion_matrix=cm)\n",
    "font = {'size' : 10}\n",
    "plt.rc('font', **font)\n",
    "fig, ax = plt.subplots(figsize=(8, 6))\n",
    "plt.tight_layout(pad=2)\n",
    "plt.title('{} (accuracy = {})'.format(title, round(accuracy,3)))\n",
    "disp.plot(ax=ax)\n",
    "\n",
    "plt.savefig(os.path.join(data_dir, '{}.svg'.format(title)))\n",
    "\n",
    "print('Accuracy  :', np.round(accuracy, 2))\n",
    "print('Precision :', np.round(precision, 2))\n",
    "print('Recall    :', np.round(recall, 2))\n",
    "print('F1-socre  :', np.round(f1score, 2))\n",
    "\n",
    "print('Mean')\n",
    "print('Precision :', np.round(precision.mean(), 2))\n",
    "print('Recall    :', np.round(recall.mean(), 2))\n",
    "print('F1-socre  :', np.round(f1score.mean(), 2))"
   ]
  },
  {
   "cell_type": "markdown",
   "id": "74f17977-381b-43df-ae64-9306d1a5a21a",
   "metadata": {
    "tags": [],
    "toc-hr-collapsed": true
   },
   "source": [
    "## Analyze the results"
   ]
  },
  {
   "cell_type": "code",
   "execution_count": 24,
   "id": "803c78b0-16a7-4b4d-b73b-9fe3ff572c13",
   "metadata": {},
   "outputs": [
    {
     "name": "stdout",
     "output_type": "stream",
     "text": [
      "Wrong predictions for digit 0 :     0 / 1000\n",
      "Wrong predictions for digit 1 :     0 / 1000\n",
      "Wrong predictions for digit 2 :     2 / 1000\n",
      "Wrong predictions for digit 3 :     0 / 1000\n",
      "Wrong predictions for digit 4 :    11 / 1000\n",
      "Wrong predictions for digit 5 :     0 / 1000\n",
      "Wrong predictions for digit 6 :     0 / 1000\n",
      "Wrong predictions for digit 7 :     3 / 1000\n",
      "Wrong predictions for digit 8 :     1 / 1000\n",
      "Wrong predictions for digit 9 :     1 / 1000\n",
      "====================\n",
      "index 3171\n",
      "y_trgt 2\n",
      "y_pred 1\n"
     ]
    },
    {
     "data": {
      "image/png": "[encoded data removed]",
      "text/plain": [
       "<Figure size 432x288 with 1 Axes>"
      ]
     },
     "metadata": {
      "needs_background": "light"
     },
     "output_type": "display_data"
    },
    {
     "name": "stdout",
     "output_type": "stream",
     "text": [
      "index 6661\n",
      "y_trgt 2\n",
      "y_pred 1\n"
     ]
    },
    {
     "data": {
      "image/png": "[encoded data removed]",
      "text/plain": [
       "<Figure size 432x288 with 1 Axes>"
      ]
     },
     "metadata": {
      "needs_background": "light"
     },
     "output_type": "display_data"
    },
    {
     "name": "stdout",
     "output_type": "stream",
     "text": [
      "index 1108\n",
      "y_trgt 4\n",
      "y_pred 9\n"
     ]
    },
    {
     "data": {
      "image/png": "[encoded data removed]",
      "text/plain": [
       "<Figure size 432x288 with 1 Axes>"
      ]
     },
     "metadata": {
      "needs_background": "light"
     },
     "output_type": "display_data"
    },
    {
     "name": "stdout",
     "output_type": "stream",
     "text": [
      "index 2267\n",
      "y_trgt 4\n",
      "y_pred 9\n"
     ]
    },
    {
     "data": {
      "image/png": "[encoded data removed]",
      "text/plain": [
       "<Figure size 432x288 with 1 Axes>"
      ]
     },
     "metadata": {
      "needs_background": "light"
     },
     "output_type": "display_data"
    },
    {
     "name": "stdout",
     "output_type": "stream",
     "text": [
      "index 2647\n",
      "y_trgt 4\n",
      "y_pred 9\n"
     ]
    },
    {
     "data": {
      "image/png": "[encoded data removed]",
      "text/plain": [
       "<Figure size 432x288 with 1 Axes>"
      ]
     },
     "metadata": {
      "needs_background": "light"
     },
     "output_type": "display_data"
    },
    {
     "name": "stdout",
     "output_type": "stream",
     "text": [
      "index 2651\n",
      "y_trgt 4\n",
      "y_pred 9\n"
     ]
    },
    {
     "data": {
      "image/png": "[encoded data removed]",
      "text/plain": [
       "<Figure size 432x288 with 1 Axes>"
      ]
     },
     "metadata": {
      "needs_background": "light"
     },
     "output_type": "display_data"
    },
    {
     "name": "stdout",
     "output_type": "stream",
     "text": [
      "index 2828\n",
      "y_trgt 4\n",
      "y_pred 9\n"
     ]
    },
    {
     "data": {
      "image/png": "[encoded data removed]",
      "text/plain": [
       "<Figure size 432x288 with 1 Axes>"
      ]
     },
     "metadata": {
      "needs_background": "light"
     },
     "output_type": "display_data"
    },
    {
     "name": "stdout",
     "output_type": "stream",
     "text": [
      "index 3266\n",
      "y_trgt 4\n",
      "y_pred 9\n"
     ]
    },
    {
     "data": {
      "image/png": "[encoded data removed]",
      "text/plain": [
       "<Figure size 432x288 with 1 Axes>"
      ]
     },
     "metadata": {
      "needs_background": "light"
     },
     "output_type": "display_data"
    },
    {
     "name": "stdout",
     "output_type": "stream",
     "text": [
      "index 4036\n",
      "y_trgt 4\n",
      "y_pred 9\n"
     ]
    },
    {
     "data": {
      "image/png": "[encoded data removed]",
      "text/plain": [
       "<Figure size 432x288 with 1 Axes>"
      ]
     },
     "metadata": {
      "needs_background": "light"
     },
     "output_type": "display_data"
    },
    {
     "name": "stdout",
     "output_type": "stream",
     "text": [
      "index 5203\n",
      "y_trgt 4\n",
      "y_pred 9\n"
     ]
    },
    {
     "data": {
      "image/png": "[encoded data removed]",
      "text/plain": [
       "<Figure size 432x288 with 1 Axes>"
      ]
     },
     "metadata": {
      "needs_background": "light"
     },
     "output_type": "display_data"
    },
    {
     "name": "stdout",
     "output_type": "stream",
     "text": [
      "index 6017\n",
      "y_trgt 4\n",
      "y_pred 9\n"
     ]
    },
    {
     "data": {
      "image/png": "[encoded data removed]",
      "text/plain": [
       "<Figure size 432x288 with 1 Axes>"
      ]
     },
     "metadata": {
      "needs_background": "light"
     },
     "output_type": "display_data"
    },
    {
     "name": "stdout",
     "output_type": "stream",
     "text": [
      "index 8791\n",
      "y_trgt 4\n",
      "y_pred 9\n"
     ]
    },
    {
     "data": {
      "image/png": "[encoded data removed]",
      "text/plain": [
       "<Figure size 432x288 with 1 Axes>"
      ]
     },
     "metadata": {
      "needs_background": "light"
     },
     "output_type": "display_data"
    },
    {
     "name": "stdout",
     "output_type": "stream",
     "text": [
      "index 9872\n",
      "y_trgt 4\n",
      "y_pred 9\n"
     ]
    },
    {
     "data": {
      "image/png": "[encoded data removed]",
      "text/plain": [
       "<Figure size 432x288 with 1 Axes>"
      ]
     },
     "metadata": {
      "needs_background": "light"
     },
     "output_type": "display_data"
    },
    {
     "name": "stdout",
     "output_type": "stream",
     "text": [
      "index 4374\n",
      "y_trgt 7\n",
      "y_pred 9\n"
     ]
    },
    {
     "data": {
      "image/png": "[encoded data removed]",
      "text/plain": [
       "<Figure size 432x288 with 1 Axes>"
      ]
     },
     "metadata": {
      "needs_background": "light"
     },
     "output_type": "display_data"
    },
    {
     "name": "stdout",
     "output_type": "stream",
     "text": [
      "index 4540\n",
      "y_trgt 7\n",
      "y_pred 9\n"
     ]
    },
    {
     "data": {
      "image/png": "[encoded data removed]",
      "text/plain": [
       "<Figure size 432x288 with 1 Axes>"
      ]
     },
     "metadata": {
      "needs_background": "light"
     },
     "output_type": "display_data"
    },
    {
     "name": "stdout",
     "output_type": "stream",
     "text": [
      "index 9993\n",
      "y_trgt 7\n",
      "y_pred 9\n"
     ]
    },
    {
     "data": {
      "image/png": "[encoded data removed]",
      "text/plain": [
       "<Figure size 432x288 with 1 Axes>"
      ]
     },
     "metadata": {
      "needs_background": "light"
     },
     "output_type": "display_data"
    },
    {
     "name": "stdout",
     "output_type": "stream",
     "text": [
      "index 3781\n",
      "y_trgt 8\n",
      "y_pred 6\n"
     ]
    },
    {
     "data": {
      "image/png": "[encoded data removed]",
      "text/plain": [
       "<Figure size 432x288 with 1 Axes>"
      ]
     },
     "metadata": {
      "needs_background": "light"
     },
     "output_type": "display_data"
    },
    {
     "name": "stdout",
     "output_type": "stream",
     "text": [
      "index 6096\n",
      "y_trgt 9\n",
      "y_pred 7\n"
     ]
    },
    {
     "data": {
      "image/png": "[encoded data removed]",
      "text/plain": [
       "<Figure size 432x288 with 1 Axes>"
      ]
     },
     "metadata": {
      "needs_background": "light"
     },
     "output_type": "display_data"
    },
    {
     "name": "stdout",
     "output_type": "stream",
     "text": [
      "The indexes of wrong prediction\n",
      "[3171, 6661, 1108, 2267, 2647, 2651, 2828, 3266, 4036, 5203, 6017, 8791, 9872, 4374, 4540, 9993, 3781, 6096]\n"
     ]
    }
   ],
   "source": [
    "y_trgt = np.array(y_trgt)\n",
    "y_pred = np.array(y_pred)\n",
    "\n",
    "for digit in range(10):\n",
    "    indexes_digit = np.squeeze(np.argwhere((y_trgt != y_pred) & (y_trgt == digit)), axis=-1)\n",
    "    print('Wrong predictions for digit {} : {:5d} / {}'.format(digit, len(indexes_digit), len(y_trgt)//10))\n",
    "\n",
    "print('====================')\n",
    "\n",
    "wrong_indexes = list()\n",
    "\n",
    "for digit in range(10):\n",
    "    indexes_digit = np.squeeze(np.argwhere((y_trgt != y_pred) & (y_trgt == digit)), axis=-1)\n",
    "    if len(indexes_digit) == 0:\n",
    "        continue\n",
    "    for i in indexes_digit:\n",
    "        wrong_indexes.append(i)\n",
    "        print('index', i)\n",
    "        print('y_trgt', y_trgt[i])\n",
    "        print('y_pred', y_pred[i])\n",
    "        plt.imshow(inputs[i], cmap='gray')\n",
    "        plt.show()\n",
    "print('The indexes of wrong prediction')\n",
    "print(wrong_indexes)"
   ]
  }
 ],
 "metadata": {
  "kernelspec": {
   "display_name": "Python 3 (ipykernel)",
   "language": "python",
   "name": "python3"
  },
  "language_info": {
   "codemirror_mode": {
    "name": "ipython",
    "version": 3
   },
   "file_extension": ".py",
   "mimetype": "text/x-python",
   "name": "python",
   "nbconvert_exporter": "python",
   "pygments_lexer": "ipython3",
   "version": "3.9.7"
  }
 },
 "nbformat": 4,
 "nbformat_minor": 5
}
